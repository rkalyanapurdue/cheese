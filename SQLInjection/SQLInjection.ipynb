{
 "cells": [
  {
   "cell_type": "markdown",
   "metadata": {},
   "source": [
    "# SQL Injection Attack\n",
    "\n",
    "## Introduction\n",
    "\n",
    "SQL Injection is a technique for attacking applications that utilize a database. The broad principle is to exploit improper user input validation to run arbitrary SQL code on the database. This may allow a malicious user to delete entries or tables from the database, create a record to obtain administrative privileges or simply access data that they are not authorized to view. \n",
    "\n",
    "## Outline\n",
    "\n",
    "The example will use a simple database that stores email addresses for different users along with a username and password. A specific user can obtain their email addresses by providing their username and password to a database client. The database client does not protect against arbitrary SQL code and the user can verify this by running various queries that demonstrate this vulnerability. The user can then secure the client by adding input validation and retry the previous queries which should no longer provide unauthorized access to the database.\n",
    "\n",
    "## Steps\n",
    "\n",
    "### Getting Started\n",
    "\n",
    "1. Open a terminal window and start up the database client at the prompt by typing:\n",
    "```console\n",
    "jovyan@host:~$ EmailCloud\n",
    "```\n",
    "2. You will then be repeatedly prompted for a ```Username``` and ```password``` combination.\n",
    "3. First let's try a user that exists in the database; type ```Alice``` for the username and ```pwd``` for the password. You should get Alice's email addresses in response.\n",
    "4. Next, let's try a user that does not exist in the database. Type ```random``` and ```forgot``` for the username and password respectively. You should see the error message ```Invalid username password pair!```\n",
    "\n",
    "### Access Unauthorized Content\n",
    "\n",
    "While everything seems ok so far; you will now see how you can pull up all the data from the database due to vulnerability in the code. \n",
    "\n",
    "1. Try ```a' OR '1=1``` for both the username and password. How did this work? (*hint: 1=1 always evaluates to TRUE*)\n",
    "2. Now let's try to retrieve data without providing a password. For the username, type ```Alice'; --``` and no password. How did this work? (*hint: what is the comment character in SQL?*)\n",
    "\n",
    "### Modifying the Database\n",
    "\n",
    "Now let's try to \n"
   ]
  },
  {
   "cell_type": "code",
   "execution_count": null,
   "metadata": {},
   "outputs": [],
   "source": []
  }
 ],
 "metadata": {
  "kernelspec": {
   "display_name": "Python 3",
   "language": "python",
   "name": "python3"
  },
  "language_info": {
   "codemirror_mode": {
    "name": "ipython",
    "version": 3
   },
   "file_extension": ".py",
   "mimetype": "text/x-python",
   "name": "python",
   "nbconvert_exporter": "python",
   "pygments_lexer": "ipython3",
   "version": "3.6.6"
  }
 },
 "nbformat": 4,
 "nbformat_minor": 2
}
